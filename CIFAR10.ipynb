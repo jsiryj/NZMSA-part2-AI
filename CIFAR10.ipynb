{
  "cells": [
    {
      "metadata": {
        "id": "BAGRx28_E0Ji",
        "colab_type": "text"
      },
      "cell_type": "markdown",
      "source": "# Importing Needed Packages\nWe first import the necessary packages for our analysis of this dataset. The use of these will be explained later"
    },
    {
      "metadata": {
        "trusted": true,
        "id": "Z1vTvrBsTVMq",
        "colab_type": "code",
        "outputId": "64772fab-6190-413c-cb6a-c2c4e593e732",
        "executionInfo": {
          "status": "ok",
          "timestamp": 1565954962726,
          "user_tz": -720,
          "elapsed": 2928,
          "user": {
            "displayName": "John Siryj",
            "photoUrl": "",
            "userId": "12025836420032788481"
          }
        },
        "colab": {
          "base_uri": "https://localhost:8080/",
          "height": 34
        }
      },
      "cell_type": "code",
      "source": "import numpy as np\nfrom keras.datasets import cifar10\nfrom keras.optimizers import SGD, Adam, RMSprop, Nadam\nfrom keras.models import Sequential\nfrom keras.layers.convolutional import Conv2D, MaxPooling2D, SeparableConv2D\nfrom keras.layers.core import Dense, Flatten, Activation, Dropout\nfrom keras.utils import np_utils\nimport matplotlib.pyplot as plt\n%matplotlib inline",
      "execution_count": 1,
      "outputs": [
        {
          "output_type": "stream",
          "text": "Using TensorFlow backend.\n",
          "name": "stderr"
        }
      ]
    },
    {
      "metadata": {
        "id": "JzrByJ5iFL4G",
        "colab_type": "text"
      },
      "cell_type": "markdown",
      "source": "# Importing Data and Preprocessing\nThe `Cifar-10` dataset is made readily available in the `keras.datasets` package"
    },
    {
      "metadata": {
        "trusted": true,
        "id": "GgaczdGzTVMu",
        "colab_type": "code",
        "colab": {
          "base_uri": "https://localhost:8080/",
          "height": 51
        },
        "outputId": "87781d59-c581-4bbf-946e-6eb2bec30dfd",
        "executionInfo": {
          "status": "ok",
          "timestamp": 1565954985257,
          "user_tz": -720,
          "elapsed": 25445,
          "user": {
            "displayName": "John Siryj",
            "photoUrl": "",
            "userId": "12025836420032788481"
          }
        }
      },
      "cell_type": "code",
      "source": "(x_train, y_train), (x_test, y_test) = cifar10.load_data()",
      "execution_count": 2,
      "outputs": [
        {
          "output_type": "stream",
          "text": "Downloading data from https://www.cs.toronto.edu/~kriz/cifar-10-python.tar.gz\n170500096/170498071 [==============================] - 14s 0us/step\n",
          "name": "stdout"
        }
      ]
    },
    {
      "metadata": {
        "trusted": true,
        "id": "XqSN4nd1TVMz",
        "colab_type": "code",
        "outputId": "bb57efba-9a1d-4074-a170-6eb299717ebf",
        "executionInfo": {
          "status": "ok",
          "timestamp": 1565954985259,
          "user_tz": -720,
          "elapsed": 25439,
          "user": {
            "displayName": "John Siryj",
            "photoUrl": "",
            "userId": "12025836420032788481"
          }
        },
        "colab": {
          "base_uri": "https://localhost:8080/",
          "height": 34
        }
      },
      "cell_type": "code",
      "source": "y_train.shape",
      "execution_count": 3,
      "outputs": [
        {
          "output_type": "execute_result",
          "data": {
            "text/plain": "(50000, 1)"
          },
          "metadata": {
            "tags": []
          },
          "execution_count": 3
        }
      ]
    },
    {
      "metadata": {
        "id": "5uu-LBNgIMCX",
        "colab_type": "code",
        "outputId": "77040eca-7399-49af-93ce-7cb2cf8288a0",
        "executionInfo": {
          "status": "ok",
          "timestamp": 1565954985260,
          "user_tz": -720,
          "elapsed": 25433,
          "user": {
            "displayName": "John Siryj",
            "photoUrl": "",
            "userId": "12025836420032788481"
          }
        },
        "colab": {
          "base_uri": "https://localhost:8080/",
          "height": 190
        },
        "trusted": false
      },
      "cell_type": "code",
      "source": "y_train[:10]",
      "execution_count": 4,
      "outputs": [
        {
          "output_type": "execute_result",
          "data": {
            "text/plain": "array([[6],\n       [9],\n       [9],\n       [4],\n       [1],\n       [1],\n       [2],\n       [7],\n       [8],\n       [3]], dtype=uint8)"
          },
          "metadata": {
            "tags": []
          },
          "execution_count": 4
        }
      ]
    },
    {
      "metadata": {
        "id": "HV366IUwFx6L",
        "colab_type": "text"
      },
      "cell_type": "markdown",
      "source": "As we can see the training data labels are single number arrays nested inside of a single array for each of the 50000 images"
    },
    {
      "metadata": {
        "trusted": true,
        "id": "KhMsTwrVTVM4",
        "colab_type": "code",
        "colab": {}
      },
      "cell_type": "code",
      "source": "y_train = y_train.reshape(y_train.shape[0])\ny_test = y_test.reshape(y_test.shape[0])",
      "execution_count": 0,
      "outputs": []
    },
    {
      "metadata": {
        "id": "kxUHVonoJL0n",
        "colab_type": "code",
        "outputId": "f0ebf455-1b59-4b53-8da5-949867b789b7",
        "executionInfo": {
          "status": "ok",
          "timestamp": 1565954985974,
          "user_tz": -720,
          "elapsed": 26134,
          "user": {
            "displayName": "John Siryj",
            "photoUrl": "",
            "userId": "12025836420032788481"
          }
        },
        "colab": {
          "base_uri": "https://localhost:8080/",
          "height": 34
        },
        "trusted": false
      },
      "cell_type": "code",
      "source": "y_train.shape",
      "execution_count": 6,
      "outputs": [
        {
          "output_type": "execute_result",
          "data": {
            "text/plain": "(50000,)"
          },
          "metadata": {
            "tags": []
          },
          "execution_count": 6
        }
      ]
    },
    {
      "metadata": {
        "id": "WPL6G0AyIq5Z",
        "colab_type": "code",
        "outputId": "bc49734a-a014-401f-a990-076a604e105c",
        "executionInfo": {
          "status": "ok",
          "timestamp": 1565954985975,
          "user_tz": -720,
          "elapsed": 26129,
          "user": {
            "displayName": "John Siryj",
            "photoUrl": "",
            "userId": "12025836420032788481"
          }
        },
        "colab": {
          "base_uri": "https://localhost:8080/",
          "height": 34
        },
        "trusted": false
      },
      "cell_type": "code",
      "source": "y_train[:10]",
      "execution_count": 7,
      "outputs": [
        {
          "output_type": "execute_result",
          "data": {
            "text/plain": "array([6, 9, 9, 4, 1, 1, 2, 7, 8, 3], dtype=uint8)"
          },
          "metadata": {
            "tags": []
          },
          "execution_count": 7
        }
      ]
    },
    {
      "metadata": {
        "id": "3nsTcZ1_ImRP",
        "colab_type": "text"
      },
      "cell_type": "markdown",
      "source": "We make use of the `reshape` function to convert the labels into a single array of integer labels"
    },
    {
      "metadata": {
        "trusted": true,
        "id": "xQVPDaArTVM_",
        "colab_type": "code",
        "colab": {}
      },
      "cell_type": "code",
      "source": "Y_train = np_utils.to_categorical(y_train, 10)\nY_test = np_utils.to_categorical(y_test, 10)",
      "execution_count": 0,
      "outputs": []
    },
    {
      "metadata": {
        "id": "Ijyd3jHxJxVV",
        "colab_type": "code",
        "outputId": "b243930b-7639-45b7-9ff4-43e5364aac0d",
        "executionInfo": {
          "status": "ok",
          "timestamp": 1565954985979,
          "user_tz": -720,
          "elapsed": 26119,
          "user": {
            "displayName": "John Siryj",
            "photoUrl": "",
            "userId": "12025836420032788481"
          }
        },
        "colab": {
          "base_uri": "https://localhost:8080/",
          "height": 190
        },
        "trusted": false
      },
      "cell_type": "code",
      "source": "Y_train[:10]",
      "execution_count": 9,
      "outputs": [
        {
          "output_type": "execute_result",
          "data": {
            "text/plain": "array([[0., 0., 0., 0., 0., 0., 1., 0., 0., 0.],\n       [0., 0., 0., 0., 0., 0., 0., 0., 0., 1.],\n       [0., 0., 0., 0., 0., 0., 0., 0., 0., 1.],\n       [0., 0., 0., 0., 1., 0., 0., 0., 0., 0.],\n       [0., 1., 0., 0., 0., 0., 0., 0., 0., 0.],\n       [0., 1., 0., 0., 0., 0., 0., 0., 0., 0.],\n       [0., 0., 1., 0., 0., 0., 0., 0., 0., 0.],\n       [0., 0., 0., 0., 0., 0., 0., 1., 0., 0.],\n       [0., 0., 0., 0., 0., 0., 0., 0., 1., 0.],\n       [0., 0., 0., 1., 0., 0., 0., 0., 0., 0.]], dtype=float32)"
          },
          "metadata": {
            "tags": []
          },
          "execution_count": 9
        }
      ]
    },
    {
      "metadata": {
        "id": "58D7DOYYJ3jh",
        "colab_type": "text"
      },
      "cell_type": "markdown",
      "source": "Making use of the `np_utils` function `to_categorical` we convert the integer labels to one-hot encoding. This allows us to use `categorical_crossentropy` as our loss function in our training.\n\nNB- if we had not done this we would have needed to use `sparse_categorical_crossentropy` as our loss function"
    },
    {
      "metadata": {
        "trusted": true,
        "id": "4IeI00HnTVM2",
        "colab_type": "code",
        "outputId": "fab3414b-b355-45dd-9882-3a5f7be39be9",
        "executionInfo": {
          "status": "ok",
          "timestamp": 1565954985979,
          "user_tz": -720,
          "elapsed": 26112,
          "user": {
            "displayName": "John Siryj",
            "photoUrl": "",
            "userId": "12025836420032788481"
          }
        },
        "colab": {
          "base_uri": "https://localhost:8080/",
          "height": 34
        }
      },
      "cell_type": "code",
      "source": "x_train.shape",
      "execution_count": 10,
      "outputs": [
        {
          "output_type": "execute_result",
          "data": {
            "text/plain": "(50000, 32, 32, 3)"
          },
          "metadata": {
            "tags": []
          },
          "execution_count": 10
        }
      ]
    },
    {
      "metadata": {
        "id": "MBQiMzGIGQJI",
        "colab_type": "text"
      },
      "cell_type": "markdown",
      "source": "As we can see the training data consists of 32x32 pixel RGB images"
    },
    {
      "metadata": {
        "id": "v7J6m_nfLIYY",
        "colab_type": "code",
        "outputId": "bdababa5-ce07-4d9c-e718-6f9cd9f7017a",
        "executionInfo": {
          "status": "ok",
          "timestamp": 1565954985980,
          "user_tz": -720,
          "elapsed": 26105,
          "user": {
            "displayName": "John Siryj",
            "photoUrl": "",
            "userId": "12025836420032788481"
          }
        },
        "colab": {
          "base_uri": "https://localhost:8080/",
          "height": 34
        },
        "trusted": false
      },
      "cell_type": "code",
      "source": "x_train.max()",
      "execution_count": 11,
      "outputs": [
        {
          "output_type": "execute_result",
          "data": {
            "text/plain": "255"
          },
          "metadata": {
            "tags": []
          },
          "execution_count": 11
        }
      ]
    },
    {
      "metadata": {
        "trusted": true,
        "id": "6P_4b0D9TVM6",
        "colab_type": "code",
        "colab": {}
      },
      "cell_type": "code",
      "source": "x_train = x_train.astype('float32')/255\nx_test = x_test.astype('float32')/255",
      "execution_count": 0,
      "outputs": []
    },
    {
      "metadata": {
        "id": "K1gt-Uh8K9Mw",
        "colab_type": "text"
      },
      "cell_type": "markdown",
      "source": "To aid training it is best to rescale the data to the 0 to 1 scale"
    },
    {
      "metadata": {
        "id": "0rTu0FVmPEgv",
        "colab_type": "text"
      },
      "cell_type": "markdown",
      "source": "# Sample Photo\nA sample image is shown below to show the kind of images we are classifying"
    },
    {
      "metadata": {
        "trusted": true,
        "id": "oLObx7JNTVM8",
        "colab_type": "code",
        "outputId": "d55db392-86e9-413a-e617-4974c811e3f8",
        "executionInfo": {
          "status": "ok",
          "timestamp": 1565954985981,
          "user_tz": -720,
          "elapsed": 26089,
          "user": {
            "displayName": "John Siryj",
            "photoUrl": "",
            "userId": "12025836420032788481"
          }
        },
        "colab": {
          "base_uri": "https://localhost:8080/",
          "height": 286
        }
      },
      "cell_type": "code",
      "source": "plt.imshow(x_train[0])",
      "execution_count": 13,
      "outputs": [
        {
          "output_type": "execute_result",
          "data": {
            "text/plain": "<matplotlib.image.AxesImage at 0x7f38b26aaeb8>"
          },
          "metadata": {
            "tags": []
          },
          "execution_count": 13
        },
        {
          "output_type": "display_data",
          "data": {
            "image/png": "[encoded data removed]",
            "text/plain": "<Figure size 432x288 with 1 Axes>"
          },
          "metadata": {
            "tags": []
          }
        }
      ]
    },
    {
      "metadata": {
        "id": "KsHlpenPNb_F",
        "colab_type": "text"
      },
      "cell_type": "markdown",
      "source": "# Model Fitting\n## Methodology\nWe will first explain the process we took to build our model. As a nod to the exceptional performance of the VGG-16 model of K. Simonyan and A. Zisserman we have used a similar architecture for our first block of layers, that is 3 convolutional layers followed by a max pooling layer to down sample the image and reduce computational overhead. To reduce overfitting our model we follow the max pooling layer up with a drop-out layer which randomly turns off a portion of neurons, thus forcing the the model to form new and more meaningful pathways. We make of rectified linear units (ReLU) for our activation function in  the convolutional layers as these have shown great promise in practice as shown in Xavier Glorot, et al. Following these layers we have flattened the output, i.e. made the output 1 dimensional in preparation for our fully connected, or dense layers. We have added 1 dense layer prior to the final output to help collect all of the our previously filtered data, we have also used a ReLU activation as well. Finally we have out the the results using a softmax function so as to provide class labels.\n\nWe have decided to use categorical cross-entropy as our loss function to minimise as we have a classification problem. We will use Stochastic Gradient Descent (SGD) for our optimisation. We are interested in how well our model performs at correctly classifying each image, a lower missclassification rate usually indicates a better model should it not be overfit. For this reason it is important to look at the accuracy of the model and use this as our error metric.\n\nWe have decided to update the weights in the network after 10 images have been through the model as this does not have the computational overhead of updating after each image and is most likely fine grain enough where it will not effect optimisation. We have allowed the model to have 20 passes or epochs through the data. To combat overfitting we have reserved 10% of the data for validation to assess the performance on unseen data."
    },
    {
      "metadata": {
        "id": "9ba38Bp-nzOs",
        "colab_type": "text"
      },
      "cell_type": "markdown",
      "source": "## Naive Approach"
    },
    {
      "metadata": {
        "trusted": true,
        "id": "E5IavF_xTVNB",
        "colab_type": "code",
        "outputId": "ca5e9e18-364d-4e61-a15d-ac191bd38a04",
        "executionInfo": {
          "status": "ok",
          "timestamp": 1565955336378,
          "user_tz": -720,
          "elapsed": 376481,
          "user": {
            "displayName": "John Siryj",
            "photoUrl": "",
            "userId": "12025836420032788481"
          }
        },
        "colab": {
          "base_uri": "https://localhost:8080/",
          "height": 1000
        }
      },
      "cell_type": "code",
      "source": "model1 = Sequential()\nmodel1.add(Conv2D(32, (2, 2), input_shape=(32, 32, 3), activation='relu'))\nmodel1.add(Conv2D(32, (2, 2), activation='relu'))\nmodel1.add(Conv2D(32, (2, 2), activation='relu'))\nmodel1.add(MaxPooling2D(pool_size=(2, 2)))\nmodel1.add(Dropout(0.2))\nmodel1.add(Flatten())\nmodel1.add(Dense(128, activation='relu'))\nmodel1.add(Dense(10, activation='softmax'))\n\nmodel1.compile(loss='categorical_crossentropy', optimizer=\"SGD\", metrics=['accuracy'])\nprint(model1.summary())\n\nmod_fit = model1.fit(\n    x_train,\n    Y_train,\n    batch_size=10,\n    epochs=20,\n    validation_split = .1,\n    shuffle=True\n)",
      "execution_count": 14,
      "outputs": [
        {
          "output_type": "stream",
          "text": "WARNING: Logging before flag parsing goes to stderr.\nW0816 11:29:43.468699 139882748557184 deprecation_wrapper.py:119] From /usr/local/lib/python3.6/dist-packages/keras/backend/tensorflow_backend.py:74: The name tf.get_default_graph is deprecated. Please use tf.compat.v1.get_default_graph instead.\n\nW0816 11:29:43.510008 139882748557184 deprecation_wrapper.py:119] From /usr/local/lib/python3.6/dist-packages/keras/backend/tensorflow_backend.py:517: The name tf.placeholder is deprecated. Please use tf.compat.v1.placeholder instead.\n\nW0816 11:29:43.519393 139882748557184 deprecation_wrapper.py:119] From /usr/local/lib/python3.6/dist-packages/keras/backend/tensorflow_backend.py:4138: The name tf.random_uniform is deprecated. Please use tf.random.uniform instead.\n\nW0816 11:29:43.572306 139882748557184 deprecation_wrapper.py:119] From /usr/local/lib/python3.6/dist-packages/keras/backend/tensorflow_backend.py:3976: The name tf.nn.max_pool is deprecated. Please use tf.nn.max_pool2d instead.\n\nW0816 11:29:43.574807 139882748557184 deprecation_wrapper.py:119] From /usr/local/lib/python3.6/dist-packages/keras/backend/tensorflow_backend.py:133: The name tf.placeholder_with_default is deprecated. Please use tf.compat.v1.placeholder_with_default instead.\n\nW0816 11:29:43.584632 139882748557184 deprecation.py:506] From /usr/local/lib/python3.6/dist-packages/keras/backend/tensorflow_backend.py:3445: calling dropout (from tensorflow.python.ops.nn_ops) with keep_prob is deprecated and will be removed in a future version.\nInstructions for updating:\nPlease use `rate` instead of `keep_prob`. Rate should be set to `rate = 1 - keep_prob`.\nW0816 11:29:43.630246 139882748557184 deprecation_wrapper.py:119] From /usr/local/lib/python3.6/dist-packages/keras/optimizers.py:790: The name tf.train.Optimizer is deprecated. Please use tf.compat.v1.train.Optimizer instead.\n\nW0816 11:29:43.648552 139882748557184 deprecation_wrapper.py:119] From /usr/local/lib/python3.6/dist-packages/keras/backend/tensorflow_backend.py:3295: The name tf.log is deprecated. Please use tf.math.log instead.\n\nW0816 11:29:43.853221 139882748557184 deprecation.py:323] From /usr/local/lib/python3.6/dist-packages/tensorflow/python/ops/math_grad.py:1250: add_dispatch_support.<locals>.wrapper (from tensorflow.python.ops.array_ops) is deprecated and will be removed in a future version.\nInstructions for updating:\nUse tf.where in 2.0, which has the same broadcast rule as np.where\n",
          "name": "stderr"
        },
        {
          "output_type": "stream",
          "text": "_________________________________________________________________\nLayer (type)                 Output Shape              Param #   \n=================================================================\nconv2d_1 (Conv2D)            (None, 31, 31, 32)        416       \n_________________________________________________________________\nconv2d_2 (Conv2D)            (None, 30, 30, 32)        4128      \n_________________________________________________________________\nconv2d_3 (Conv2D)            (None, 29, 29, 32)        4128      \n_________________________________________________________________\nmax_pooling2d_1 (MaxPooling2 (None, 14, 14, 32)        0         \n_________________________________________________________________\ndropout_1 (Dropout)          (None, 14, 14, 32)        0         \n_________________________________________________________________\nflatten_1 (Flatten)          (None, 6272)              0         \n_________________________________________________________________\ndense_1 (Dense)              (None, 128)               802944    \n_________________________________________________________________\ndense_2 (Dense)              (None, 10)                1290      \n=================================================================\nTotal params: 812,906\nTrainable params: 812,906\nNon-trainable params: 0\n_________________________________________________________________\nNone\nTrain on 45000 samples, validate on 5000 samples\nEpoch 1/20\n45000/45000 [==============================] - 24s 535us/step - loss: 1.7617 - acc: 0.3618 - val_loss: 1.4742 - val_acc: 0.4808\nEpoch 2/20\n45000/45000 [==============================] - 17s 379us/step - loss: 1.3404 - acc: 0.5174 - val_loss: 1.2279 - val_acc: 0.5656\nEpoch 3/20\n45000/45000 [==============================] - 17s 379us/step - loss: 1.1529 - acc: 0.5926 - val_loss: 1.1013 - val_acc: 0.6164\nEpoch 4/20\n45000/45000 [==============================] - 17s 379us/step - loss: 0.9970 - acc: 0.6504 - val_loss: 0.9950 - val_acc: 0.6566\nEpoch 5/20\n45000/45000 [==============================] - 17s 379us/step - loss: 0.8715 - acc: 0.6939 - val_loss: 0.9676 - val_acc: 0.6618\nEpoch 6/20\n45000/45000 [==============================] - 17s 385us/step - loss: 0.7598 - acc: 0.7341 - val_loss: 0.9201 - val_acc: 0.6926\nEpoch 7/20\n45000/45000 [==============================] - 17s 380us/step - loss: 0.6602 - acc: 0.7694 - val_loss: 0.9528 - val_acc: 0.6888\nEpoch 8/20\n45000/45000 [==============================] - 17s 378us/step - loss: 0.5702 - acc: 0.7984 - val_loss: 0.9710 - val_acc: 0.6802\nEpoch 9/20\n45000/45000 [==============================] - 18s 392us/step - loss: 0.4822 - acc: 0.8296 - val_loss: 1.0554 - val_acc: 0.6776\nEpoch 10/20\n45000/45000 [==============================] - 17s 379us/step - loss: 0.4086 - acc: 0.8530 - val_loss: 1.0955 - val_acc: 0.6742\nEpoch 11/20\n45000/45000 [==============================] - 17s 381us/step - loss: 0.3428 - acc: 0.8776 - val_loss: 1.2110 - val_acc: 0.6636\nEpoch 12/20\n45000/45000 [==============================] - 17s 378us/step - loss: 0.2915 - acc: 0.8942 - val_loss: 1.3418 - val_acc: 0.6722\nEpoch 13/20\n45000/45000 [==============================] - 17s 378us/step - loss: 0.2479 - acc: 0.9113 - val_loss: 1.3466 - val_acc: 0.6718\nEpoch 14/20\n45000/45000 [==============================] - 17s 378us/step - loss: 0.2146 - acc: 0.9254 - val_loss: 1.4442 - val_acc: 0.6682\nEpoch 15/20\n45000/45000 [==============================] - 17s 382us/step - loss: 0.1818 - acc: 0.9357 - val_loss: 1.4632 - val_acc: 0.6828\nEpoch 16/20\n45000/45000 [==============================] - 17s 381us/step - loss: 0.1652 - acc: 0.9413 - val_loss: 1.5585 - val_acc: 0.6668\nEpoch 17/20\n45000/45000 [==============================] - 17s 378us/step - loss: 0.1439 - acc: 0.9490 - val_loss: 1.6525 - val_acc: 0.6734\nEpoch 18/20\n45000/45000 [==============================] - 17s 378us/step - loss: 0.1353 - acc: 0.9535 - val_loss: 1.6474 - val_acc: 0.6774\nEpoch 19/20\n45000/45000 [==============================] - 17s 379us/step - loss: 0.1239 - acc: 0.9561 - val_loss: 1.6688 - val_acc: 0.6772\nEpoch 20/20\n45000/45000 [==============================] - 17s 382us/step - loss: 0.1182 - acc: 0.9588 - val_loss: 1.6455 - val_acc: 0.6770\n",
          "name": "stdout"
        }
      ]
    },
    {
      "metadata": {
        "id": "H0anrH4IkHRT",
        "colab_type": "code",
        "outputId": "20454c6e-884b-4cbd-e971-d511b27b517e",
        "executionInfo": {
          "status": "ok",
          "timestamp": 1565955336379,
          "user_tz": -720,
          "elapsed": 376477,
          "user": {
            "displayName": "John Siryj",
            "photoUrl": "",
            "userId": "12025836420032788481"
          }
        },
        "colab": {
          "base_uri": "https://localhost:8080/",
          "height": 295
        },
        "trusted": false
      },
      "cell_type": "code",
      "source": "plt.plot(mod_fit.history['acc'])\nplt.plot(mod_fit.history['val_acc'])\nplt.title('Model Accuracy')\nplt.ylabel('Accuracy')\nplt.xlabel('Epoch')\nplt.legend(['Train', 'Validation'], loc='upper left')\nplt.show()",
      "execution_count": 15,
      "outputs": [
        {
          "output_type": "display_data",
          "data": {
            "image/png": "[encoded data removed]",
            "text/plain": "<Figure size 432x288 with 1 Axes>"
          },
          "metadata": {
            "tags": []
          }
        }
      ]
    },
    {
      "metadata": {
        "id": "DUzYM-Kfn7Zy",
        "colab_type": "text"
      },
      "cell_type": "markdown",
      "source": "As we can see the model performs quite well and increases in validation accuracy until about the sixth epoch at which the validation accuracy seems to plateau. As a good example of overfitting the training accuracy increases as we would expect."
    },
    {
      "metadata": {
        "id": "zNiJFAf4nl7P",
        "colab_type": "code",
        "outputId": "f0c96fa6-6b06-4277-8a95-c1bb436555ef",
        "executionInfo": {
          "status": "ok",
          "timestamp": 1565955336380,
          "user_tz": -720,
          "elapsed": 376473,
          "user": {
            "displayName": "John Siryj",
            "photoUrl": "",
            "userId": "12025836420032788481"
          }
        },
        "colab": {
          "base_uri": "https://localhost:8080/",
          "height": 295
        },
        "trusted": false
      },
      "cell_type": "code",
      "source": "plt.plot(mod_fit.history['loss'])\nplt.plot(mod_fit.history['val_loss'])\nplt.title('Model Loss')\nplt.ylabel('Loss')\nplt.xlabel('Epoch')\nplt.legend(['Train', 'Validation'], loc='upper left')\nplt.show()",
      "execution_count": 16,
      "outputs": [
        {
          "output_type": "display_data",
          "data": {
            "image/png": "[encoded data removed]",
            "text/plain": "<Figure size 432x288 with 1 Axes>"
          },
          "metadata": {
            "tags": []
          }
        }
      ]
    },
    {
      "metadata": {
        "id": "kCWGCooznxBj",
        "colab_type": "text"
      },
      "cell_type": "markdown",
      "source": "Similar to the accuracy plot above we can see that the loss appears to be monotonically decreasing for training data, but the loss on validation data makes a tell tale U shape indicating that the model is overfitting after the sixth epoch or so."
    },
    {
      "metadata": {
        "id": "bxtA9VqkEbzT",
        "colab_type": "code",
        "colab": {},
        "trusted": false
      },
      "cell_type": "code",
      "source": "",
      "execution_count": 0,
      "outputs": []
    },
    {
      "metadata": {
        "id": "uFu-SzsHtulQ",
        "colab_type": "text"
      },
      "cell_type": "markdown",
      "source": "## Hyperparameter Tuning"
    },
    {
      "metadata": {
        "id": "X28NIULeoi9g",
        "colab_type": "text"
      },
      "cell_type": "markdown",
      "source": "Before assessing the model any further we should do some hyperparameter tuning to make sure our output is as optimal as possible. Lookin at the model we have decided to tune the following:\n\n*   optimiser for our analysis (`OP`)\n *   We will consider the `Adam` and `SGD` optimisers\n*   number of nodes in our first dense layer (`DL`)\n *  We will consider `64`, and `128`\n*   number of epochs (`EP`)\n *   We will consider `5` and `10` epochs\n"
    },
    {
      "metadata": {
        "id": "sHOLsh7c49VG",
        "colab_type": "text"
      },
      "cell_type": "markdown",
      "source": "To do this we will be using a naive grid search approach and doing all of the `2*2*2 = 8` permutations"
    },
    {
      "metadata": {},
      "cell_type": "markdown",
      "source": "We are tuning the optimiser in case it is not as suited as others. We are tuning the number of nodes in the dense layer as we simply guessed initially at an appropriate number. Finally as we can see the number of epochs needed seems to be less than 20 and thus it would be useful to know a more appropriate number for application."
    },
    {
      "metadata": {
        "id": "aWfLruGDQ8ez",
        "colab_type": "text"
      },
      "cell_type": "markdown",
      "source": "###  OP=`Adam`, DL=`64`, EP=`5`"
    },
    {
      "metadata": {
        "id": "oy9xjzm_32Wn",
        "colab_type": "code",
        "colab": {
          "base_uri": "https://localhost:8080/",
          "height": 227
        },
        "outputId": "90ae8256-3139-410d-8639-11190b95788c",
        "executionInfo": {
          "status": "ok",
          "timestamp": 1565956577558,
          "user_tz": -720,
          "elapsed": 107196,
          "user": {
            "displayName": "John Siryj",
            "photoUrl": "",
            "userId": "12025836420032788481"
          }
        },
        "trusted": false
      },
      "cell_type": "code",
      "source": "model2 = Sequential()\nmodel2.add(Conv2D(32, (2, 2), input_shape=(32, 32, 3), activation='relu'))\nmodel2.add(Conv2D(32, (2, 2), activation='relu'))\nmodel2.add(Conv2D(32, (2, 2), activation='relu'))\nmodel2.add(MaxPooling2D(pool_size=(2, 2)))\nmodel2.add(Dropout(0.2))\nmodel2.add(Flatten())\nmodel2.add(Dense(64, activation='relu'))\nmodel2.add(Dense(10, activation='softmax'))\n\nmodel2.compile(loss='categorical_crossentropy', optimizer=\"Adam\", metrics=['accuracy'])\n\nmod_fit2 = model2.fit(\n    x_train,\n    Y_train,\n    batch_size=10,\n    epochs=5,\n    validation_split = .1,\n    shuffle=True\n)",
      "execution_count": 18,
      "outputs": [
        {
          "output_type": "stream",
          "text": "Train on 45000 samples, validate on 5000 samples\nEpoch 1/5\n45000/45000 [==============================] - 22s 478us/step - loss: 1.4412 - acc: 0.4816 - val_loss: 1.1274 - val_acc: 0.6008\nEpoch 2/5\n45000/45000 [==============================] - 21s 466us/step - loss: 1.0477 - acc: 0.6328 - val_loss: 0.9962 - val_acc: 0.6534\nEpoch 3/5\n45000/45000 [==============================] - 21s 467us/step - loss: 0.9237 - acc: 0.6772 - val_loss: 0.9180 - val_acc: 0.6798\nEpoch 4/5\n45000/45000 [==============================] - 21s 467us/step - loss: 0.8360 - acc: 0.7066 - val_loss: 0.9262 - val_acc: 0.6734\nEpoch 5/5\n45000/45000 [==============================] - 21s 466us/step - loss: 0.7654 - acc: 0.7344 - val_loss: 1.0098 - val_acc: 0.6534\n",
          "name": "stdout"
        }
      ]
    },
    {
      "metadata": {
        "id": "Vhg2sj__STtB",
        "colab_type": "text"
      },
      "cell_type": "markdown",
      "source": "### OP=`SGD`, DL=`64`,  EP=`5`"
    },
    {
      "metadata": {
        "id": "3knW3ZDFSAos",
        "colab_type": "code",
        "colab": {
          "base_uri": "https://localhost:8080/",
          "height": 227
        },
        "outputId": "bd34dfb5-d1a2-46b3-d7d1-f5eaf0e7ffde",
        "executionInfo": {
          "status": "ok",
          "timestamp": 1565956668940,
          "user_tz": -720,
          "elapsed": 90405,
          "user": {
            "displayName": "John Siryj",
            "photoUrl": "",
            "userId": "12025836420032788481"
          }
        },
        "trusted": false
      },
      "cell_type": "code",
      "source": "model3 = Sequential()\nmodel3.add(Conv2D(32, (2, 2), input_shape=(32, 32, 3), activation='relu'))\nmodel3.add(Conv2D(32, (2, 2), activation='relu'))\nmodel3.add(Conv2D(32, (2, 2), activation='relu'))\nmodel3.add(MaxPooling2D(pool_size=(2, 2)))\nmodel3.add(Dropout(0.2))\nmodel3.add(Flatten())\nmodel3.add(Dense(64, activation='relu'))\nmodel3.add(Dense(10, activation='softmax'))\n\nmodel3.compile(loss='categorical_crossentropy', optimizer=\"SGD\", metrics=['accuracy'])\n\nmod_fit3 = model3.fit(\n    x_train,\n    Y_train,\n    batch_size=10,\n    epochs=5,\n    validation_split = .1,\n    shuffle=True\n)",
      "execution_count": 19,
      "outputs": [
        {
          "output_type": "stream",
          "text": "Train on 45000 samples, validate on 5000 samples\nEpoch 1/5\n45000/45000 [==============================] - 18s 401us/step - loss: 1.7879 - acc: 0.3559 - val_loss: 1.4820 - val_acc: 0.4694\nEpoch 2/5\n45000/45000 [==============================] - 18s 393us/step - loss: 1.4138 - acc: 0.4928 - val_loss: 1.3107 - val_acc: 0.5312\nEpoch 3/5\n45000/45000 [==============================] - 18s 395us/step - loss: 1.2303 - acc: 0.5582 - val_loss: 1.1593 - val_acc: 0.5858\nEpoch 4/5\n45000/45000 [==============================] - 18s 392us/step - loss: 1.1007 - acc: 0.6099 - val_loss: 1.1243 - val_acc: 0.6014\nEpoch 5/5\n45000/45000 [==============================] - 18s 390us/step - loss: 0.9980 - acc: 0.6470 - val_loss: 1.0267 - val_acc: 0.6446\n",
          "name": "stdout"
        }
      ]
    },
    {
      "metadata": {
        "id": "hokI9eP0URI0",
        "colab_type": "text"
      },
      "cell_type": "markdown",
      "source": "### OP=`Adam`, DL=`128`,  EP=`5`"
    },
    {
      "metadata": {
        "id": "nKzJFXb0UbYz",
        "colab_type": "code",
        "colab": {
          "base_uri": "https://localhost:8080/",
          "height": 227
        },
        "outputId": "5f554760-6178-4eb3-a5cb-07ac538ed984",
        "executionInfo": {
          "status": "ok",
          "timestamp": 1565957290460,
          "user_tz": -720,
          "elapsed": 111488,
          "user": {
            "displayName": "John Siryj",
            "photoUrl": "",
            "userId": "12025836420032788481"
          }
        },
        "trusted": false
      },
      "cell_type": "code",
      "source": "model5 = Sequential()\nmodel5.add(Conv2D(32, (2, 2), input_shape=(32, 32, 3), activation='relu'))\nmodel5.add(Conv2D(32, (2, 2), activation='relu'))\nmodel5.add(Conv2D(32, (2, 2), activation='relu'))\nmodel5.add(MaxPooling2D(pool_size=(2, 2)))\nmodel5.add(Dropout(0.2))\nmodel5.add(Flatten())\nmodel5.add(Dense(128, activation='relu'))\nmodel5.add(Dense(10, activation='softmax'))\n\nmodel5.compile(loss='categorical_crossentropy', optimizer=\"Adam\", metrics=['accuracy'])\n\nmod_fit5 = model5.fit(\n    x_train,\n    Y_train,\n    batch_size=10,\n    epochs=5,\n    validation_split = .1,\n    shuffle=True\n)",
      "execution_count": 22,
      "outputs": [
        {
          "output_type": "stream",
          "text": "Train on 45000 samples, validate on 5000 samples\nEpoch 1/5\n45000/45000 [==============================] - 22s 497us/step - loss: 1.3596 - acc: 0.5102 - val_loss: 1.0841 - val_acc: 0.6138\nEpoch 2/5\n45000/45000 [==============================] - 22s 481us/step - loss: 0.9662 - acc: 0.6604 - val_loss: 0.9097 - val_acc: 0.6812\nEpoch 3/5\n45000/45000 [==============================] - 22s 484us/step - loss: 0.7817 - acc: 0.7245 - val_loss: 0.9050 - val_acc: 0.6908\nEpoch 4/5\n45000/45000 [==============================] - 22s 483us/step - loss: 0.6491 - acc: 0.7700 - val_loss: 0.9078 - val_acc: 0.6982\nEpoch 5/5\n45000/45000 [==============================] - 22s 480us/step - loss: 0.5284 - acc: 0.8121 - val_loss: 0.8933 - val_acc: 0.7102\n",
          "name": "stdout"
        }
      ]
    },
    {
      "metadata": {
        "id": "8VybZidOTkiR",
        "colab_type": "text"
      },
      "cell_type": "markdown",
      "source": "### OP=`SGD`, DL=`128`,  EP=`5`"
    },
    {
      "metadata": {
        "id": "E3R1gMzbTqkE",
        "colab_type": "code",
        "colab": {
          "base_uri": "https://localhost:8080/",
          "height": 227
        },
        "outputId": "3f1957d7-5d86-49ad-b6c4-f2ac6b8f6d56",
        "executionInfo": {
          "status": "ok",
          "timestamp": 1565957179115,
          "user_tz": -720,
          "elapsed": 92469,
          "user": {
            "displayName": "John Siryj",
            "photoUrl": "",
            "userId": "12025836420032788481"
          }
        },
        "trusted": false
      },
      "cell_type": "code",
      "source": "model4 = Sequential()\nmodel4.add(Conv2D(32, (2, 2), input_shape=(32, 32, 3), activation='relu'))\nmodel4.add(Conv2D(32, (2, 2), activation='relu'))\nmodel4.add(Conv2D(32, (2, 2), activation='relu'))\nmodel4.add(MaxPooling2D(pool_size=(2, 2)))\nmodel4.add(Dropout(0.2))\nmodel4.add(Flatten())\nmodel4.add(Dense(128, activation='relu'))\nmodel4.add(Dense(10, activation='softmax'))\n\nmodel4.compile(loss='categorical_crossentropy', optimizer=\"SGD\", metrics=['accuracy'])\n\nmod_fit4 = model4.fit(\n    x_train,\n    Y_train,\n    batch_size=10,\n    epochs=5,\n    validation_split = .1,\n    shuffle=True\n)",
      "execution_count": 21,
      "outputs": [
        {
          "output_type": "stream",
          "text": "Train on 45000 samples, validate on 5000 samples\nEpoch 1/5\n45000/45000 [==============================] - 19s 415us/step - loss: 1.8048 - acc: 0.3513 - val_loss: 1.5443 - val_acc: 0.4478\nEpoch 2/5\n45000/45000 [==============================] - 18s 400us/step - loss: 1.4444 - acc: 0.4818 - val_loss: 1.3214 - val_acc: 0.5216\nEpoch 3/5\n45000/45000 [==============================] - 18s 400us/step - loss: 1.2551 - acc: 0.5511 - val_loss: 1.1669 - val_acc: 0.5830\nEpoch 4/5\n45000/45000 [==============================] - 18s 400us/step - loss: 1.0926 - acc: 0.6122 - val_loss: 1.0896 - val_acc: 0.6132\nEpoch 5/5\n45000/45000 [==============================] - 18s 402us/step - loss: 0.9564 - acc: 0.6610 - val_loss: 1.0179 - val_acc: 0.6372\n",
          "name": "stdout"
        }
      ]
    },
    {
      "metadata": {
        "id": "MkpOUHwNU6gN",
        "colab_type": "text"
      },
      "cell_type": "markdown",
      "source": "### OP=`Adam`, DL=`64`,  EP=`10`"
    },
    {
      "metadata": {
        "id": "1d7JG1bMVIO6",
        "colab_type": "code",
        "colab": {
          "base_uri": "https://localhost:8080/",
          "height": 401
        },
        "outputId": "e0a1fe1b-dfa0-4b72-f25a-bfbd0fefcbbd",
        "executionInfo": {
          "status": "ok",
          "timestamp": 1565957742679,
          "user_tz": -720,
          "elapsed": 222142,
          "user": {
            "displayName": "John Siryj",
            "photoUrl": "",
            "userId": "12025836420032788481"
          }
        },
        "trusted": false
      },
      "cell_type": "code",
      "source": "model6 = Sequential()\nmodel6.add(Conv2D(32, (2, 2), input_shape=(32, 32, 3), activation='relu'))\nmodel6.add(Conv2D(32, (2, 2), activation='relu'))\nmodel6.add(Conv2D(32, (2, 2), activation='relu'))\nmodel6.add(MaxPooling2D(pool_size=(2, 2)))\nmodel6.add(Dropout(0.2))\nmodel6.add(Flatten())\nmodel6.add(Dense(64, activation='relu'))\nmodel6.add(Dense(10, activation='softmax'))\n\nmodel6.compile(loss='categorical_crossentropy', optimizer=\"Adam\", metrics=['accuracy'])\n\nmod_fit6 = model6.fit(\n    x_train,\n    Y_train,\n    batch_size=10,\n    epochs=10,\n    validation_split = .1,\n    shuffle=True\n)",
      "execution_count": 25,
      "outputs": [
        {
          "output_type": "stream",
          "text": "Train on 45000 samples, validate on 5000 samples\nEpoch 1/10\n45000/45000 [==============================] - 23s 516us/step - loss: 1.4035 - acc: 0.4940 - val_loss: 1.1255 - val_acc: 0.6010\nEpoch 2/10\n45000/45000 [==============================] - 22s 485us/step - loss: 1.0435 - acc: 0.6305 - val_loss: 1.0036 - val_acc: 0.6434\nEpoch 3/10\n45000/45000 [==============================] - 22s 487us/step - loss: 0.9063 - acc: 0.6823 - val_loss: 0.9613 - val_acc: 0.6620\nEpoch 4/10\n45000/45000 [==============================] - 22s 484us/step - loss: 0.8189 - acc: 0.7109 - val_loss: 0.9631 - val_acc: 0.6616\nEpoch 5/10\n45000/45000 [==============================] - 22s 493us/step - loss: 0.7419 - acc: 0.7405 - val_loss: 0.9256 - val_acc: 0.6840\nEpoch 6/10\n45000/45000 [==============================] - 22s 484us/step - loss: 0.6777 - acc: 0.7600 - val_loss: 0.9575 - val_acc: 0.6724\nEpoch 7/10\n45000/45000 [==============================] - 22s 484us/step - loss: 0.6215 - acc: 0.7803 - val_loss: 0.9735 - val_acc: 0.6812\nEpoch 8/10\n45000/45000 [==============================] - 22s 481us/step - loss: 0.5769 - acc: 0.7970 - val_loss: 1.0124 - val_acc: 0.6750\nEpoch 9/10\n45000/45000 [==============================] - 22s 481us/step - loss: 0.5275 - acc: 0.8145 - val_loss: 1.1065 - val_acc: 0.6588\nEpoch 10/10\n45000/45000 [==============================] - 22s 485us/step - loss: 0.4901 - acc: 0.8254 - val_loss: 1.1080 - val_acc: 0.6744\n",
          "name": "stdout"
        }
      ]
    },
    {
      "metadata": {
        "id": "Mt0cWCrCVgyi",
        "colab_type": "text"
      },
      "cell_type": "markdown",
      "source": "### OP=`SGD`, DL=`64`,  EP=`10`"
    },
    {
      "metadata": {
        "id": "x6b322s9Vk8p",
        "colab_type": "code",
        "colab": {
          "base_uri": "https://localhost:8080/",
          "height": 401
        },
        "outputId": "bed4a29c-bb49-48e2-c057-6d87552b87f0",
        "executionInfo": {
          "status": "ok",
          "timestamp": 1565957925774,
          "user_tz": -720,
          "elapsed": 390679,
          "user": {
            "displayName": "John Siryj",
            "photoUrl": "",
            "userId": "12025836420032788481"
          }
        },
        "trusted": false
      },
      "cell_type": "code",
      "source": "model7 = Sequential()\nmodel7.add(Conv2D(32, (2, 2), input_shape=(32, 32, 3), activation='relu'))\nmodel7.add(Conv2D(32, (2, 2), activation='relu'))\nmodel7.add(Conv2D(32, (2, 2), activation='relu'))\nmodel7.add(MaxPooling2D(pool_size=(2, 2)))\nmodel7.add(Dropout(0.2))\nmodel7.add(Flatten())\nmodel7.add(Dense(64, activation='relu'))\nmodel7.add(Dense(10, activation='softmax'))\n\nmodel7.compile(loss='categorical_crossentropy', optimizer=\"SGD\", metrics=['accuracy'])\n\nmod_fit7 = model7.fit(\n    x_train,\n    Y_train,\n    batch_size=10,\n    epochs=10,\n    validation_split = .1,\n    shuffle=True\n)",
      "execution_count": 26,
      "outputs": [
        {
          "output_type": "stream",
          "text": "Train on 45000 samples, validate on 5000 samples\nEpoch 1/10\n45000/45000 [==============================] - 19s 424us/step - loss: 1.8112 - acc: 0.3501 - val_loss: 1.5752 - val_acc: 0.4340\nEpoch 2/10\n45000/45000 [==============================] - 18s 404us/step - loss: 1.4108 - acc: 0.4915 - val_loss: 1.2415 - val_acc: 0.5488\nEpoch 3/10\n45000/45000 [==============================] - 18s 403us/step - loss: 1.1862 - acc: 0.5768 - val_loss: 1.1240 - val_acc: 0.5970\nEpoch 4/10\n45000/45000 [==============================] - 18s 402us/step - loss: 1.0365 - acc: 0.6319 - val_loss: 1.0377 - val_acc: 0.6308\nEpoch 5/10\n45000/45000 [==============================] - 18s 404us/step - loss: 0.9182 - acc: 0.6779 - val_loss: 0.9987 - val_acc: 0.6480\nEpoch 6/10\n45000/45000 [==============================] - 18s 407us/step - loss: 0.8273 - acc: 0.7055 - val_loss: 0.9887 - val_acc: 0.6580\nEpoch 7/10\n45000/45000 [==============================] - 18s 402us/step - loss: 0.7422 - acc: 0.7376 - val_loss: 0.9642 - val_acc: 0.6650\nEpoch 8/10\n45000/45000 [==============================] - 18s 403us/step - loss: 0.6667 - acc: 0.7663 - val_loss: 0.9520 - val_acc: 0.6792\nEpoch 9/10\n45000/45000 [==============================] - 18s 406us/step - loss: 0.5983 - acc: 0.7866 - val_loss: 0.9793 - val_acc: 0.6770\nEpoch 10/10\n45000/45000 [==============================] - 18s 402us/step - loss: 0.5362 - acc: 0.8087 - val_loss: 1.0681 - val_acc: 0.6784\n",
          "name": "stdout"
        }
      ]
    },
    {
      "metadata": {
        "id": "lCnsIDSqV-Tl",
        "colab_type": "text"
      },
      "cell_type": "markdown",
      "source": "### OP=`Adam`, DL=`128`,  EP=`10`"
    },
    {
      "metadata": {
        "id": "GqAW0eMOWIjK",
        "colab_type": "code",
        "colab": {
          "base_uri": "https://localhost:8080/",
          "height": 401
        },
        "outputId": "c07585bc-b9dd-4faa-a430-7294f55835a3",
        "executionInfo": {
          "status": "ok",
          "timestamp": 1565958144197,
          "user_tz": -720,
          "elapsed": 489058,
          "user": {
            "displayName": "John Siryj",
            "photoUrl": "",
            "userId": "12025836420032788481"
          }
        },
        "trusted": false
      },
      "cell_type": "code",
      "source": "model8 = Sequential()\nmodel8.add(Conv2D(32, (2, 2), input_shape=(32, 32, 3), activation='relu'))\nmodel8.add(Conv2D(32, (2, 2), activation='relu'))\nmodel8.add(Conv2D(32, (2, 2), activation='relu'))\nmodel8.add(MaxPooling2D(pool_size=(2, 2)))\nmodel8.add(Dropout(0.2))\nmodel8.add(Flatten())\nmodel8.add(Dense(128, activation='relu'))\nmodel8.add(Dense(10, activation='softmax'))\n\nmodel8.compile(loss='categorical_crossentropy', optimizer=\"Adam\", metrics=['accuracy'])\n\nmod_fit8 = model8.fit(\n    x_train,\n    Y_train,\n    batch_size=10,\n    epochs=10,\n    validation_split = .1,\n    shuffle=True\n)",
      "execution_count": 27,
      "outputs": [
        {
          "output_type": "stream",
          "text": "Train on 45000 samples, validate on 5000 samples\nEpoch 1/10\n45000/45000 [==============================] - 23s 517us/step - loss: 1.3532 - acc: 0.5159 - val_loss: 1.0800 - val_acc: 0.6226\nEpoch 2/10\n45000/45000 [==============================] - 22s 482us/step - loss: 0.9933 - acc: 0.6508 - val_loss: 1.0196 - val_acc: 0.6438\nEpoch 3/10\n45000/45000 [==============================] - 22s 484us/step - loss: 0.8480 - acc: 0.7018 - val_loss: 0.9382 - val_acc: 0.6774\nEpoch 4/10\n45000/45000 [==============================] - 22s 482us/step - loss: 0.7232 - acc: 0.7453 - val_loss: 0.9422 - val_acc: 0.6886\nEpoch 5/10\n45000/45000 [==============================] - 22s 480us/step - loss: 0.6214 - acc: 0.7799 - val_loss: 0.9547 - val_acc: 0.6814\nEpoch 6/10\n45000/45000 [==============================] - 22s 480us/step - loss: 0.5241 - acc: 0.8134 - val_loss: 1.0472 - val_acc: 0.6726\nEpoch 7/10\n45000/45000 [==============================] - 22s 483us/step - loss: 0.4483 - acc: 0.8421 - val_loss: 1.0723 - val_acc: 0.6738\nEpoch 8/10\n45000/45000 [==============================] - 22s 479us/step - loss: 0.3860 - acc: 0.8619 - val_loss: 1.1369 - val_acc: 0.6754\nEpoch 9/10\n45000/45000 [==============================] - 22s 481us/step - loss: 0.3343 - acc: 0.8814 - val_loss: 1.2575 - val_acc: 0.6636\nEpoch 10/10\n45000/45000 [==============================] - 22s 485us/step - loss: 0.2981 - acc: 0.8945 - val_loss: 1.3019 - val_acc: 0.6642\n",
          "name": "stdout"
        }
      ]
    },
    {
      "metadata": {
        "id": "UZ7Dlti47CYF",
        "colab_type": "text"
      },
      "cell_type": "markdown",
      "source": "As we can see `Adam` seems to be the better optimiser to use and we should use `128` fully connected nodes."
    },
    {
      "metadata": {
        "id": "0_SjAO-BYSmq",
        "colab_type": "text"
      },
      "cell_type": "markdown",
      "source": "##  Changing the Architecture\n\nAs we know the VGG-16 model uses multiple blocks of convolutional layers, using our knowledge of this we suspect that adding additional blocks might improve validation accuracy. With this in mind we build a new model below. The VGG-16 model doubles the number of nodes in the convolutional layers as the number of blocks increases. For this reason we will do the same."
    },
    {
      "metadata": {
        "id": "PbIdHMhGY6sk",
        "colab_type": "code",
        "colab": {
          "base_uri": "https://localhost:8080/",
          "height": 747
        },
        "outputId": "625ed30b-b548-46ff-f0a6-a9f94a5f60c3",
        "executionInfo": {
          "status": "ok",
          "timestamp": 1565959500601,
          "user_tz": -720,
          "elapsed": 570757,
          "user": {
            "displayName": "John Siryj",
            "photoUrl": "",
            "userId": "12025836420032788481"
          }
        },
        "trusted": false
      },
      "cell_type": "code",
      "source": "model_new_arch = Sequential()\nmodel_new_arch.add(Conv2D(32, (2, 2), input_shape=(32, 32, 3), activation='relu'))\nmodel_new_arch.add(Conv2D(32, (2, 2), activation='relu'))\nmodel_new_arch.add(Conv2D(32, (2, 2), activation='relu'))\nmodel_new_arch.add(MaxPooling2D(pool_size=(2, 2)))\nmodel_new_arch.add(Dropout(0.2))\nmodel_new_arch.add(Conv2D(64, (2, 2), input_shape=(32, 32, 3), activation='relu'))\nmodel_new_arch.add(Conv2D(64, (2, 2), activation='relu'))\nmodel_new_arch.add(Conv2D(64, (2, 2), activation='relu'))\nmodel_new_arch.add(MaxPooling2D(pool_size=(2, 2)))\nmodel_new_arch.add(Dropout(0.2))\nmodel_new_arch.add(Flatten())\nmodel_new_arch.add(Dense(128, activation='relu'))\nmodel_new_arch.add(Dense(10, activation='softmax'))\n\nmodel_new_arch.compile(loss='categorical_crossentropy', optimizer=\"Adam\", metrics=['accuracy'])\n\nmod_fit_new_arch = model_new_arch.fit(\n    x_train,\n    Y_train,\n    batch_size=10,\n    epochs=20,\n    validation_split = .1,\n    shuffle=True\n)",
      "execution_count": 29,
      "outputs": [
        {
          "output_type": "stream",
          "text": "Train on 45000 samples, validate on 5000 samples\nEpoch 1/20\n45000/45000 [==============================] - 30s 668us/step - loss: 1.6239 - acc: 0.4058 - val_loss: 1.3494 - val_acc: 0.5108\nEpoch 2/20\n45000/45000 [==============================] - 28s 629us/step - loss: 1.2575 - acc: 0.5496 - val_loss: 1.0874 - val_acc: 0.6152\nEpoch 3/20\n45000/45000 [==============================] - 28s 628us/step - loss: 1.0920 - acc: 0.6116 - val_loss: 0.9767 - val_acc: 0.6552\nEpoch 4/20\n45000/45000 [==============================] - 28s 631us/step - loss: 0.9928 - acc: 0.6503 - val_loss: 0.9227 - val_acc: 0.6760\nEpoch 5/20\n45000/45000 [==============================] - 28s 630us/step - loss: 0.9182 - acc: 0.6774 - val_loss: 0.9335 - val_acc: 0.6818\nEpoch 6/20\n45000/45000 [==============================] - 28s 628us/step - loss: 0.8640 - acc: 0.6949 - val_loss: 0.8670 - val_acc: 0.6984\nEpoch 7/20\n45000/45000 [==============================] - 28s 628us/step - loss: 0.8237 - acc: 0.7104 - val_loss: 0.8770 - val_acc: 0.6968\nEpoch 8/20\n45000/45000 [==============================] - 28s 627us/step - loss: 0.7859 - acc: 0.7236 - val_loss: 0.9329 - val_acc: 0.6798\nEpoch 9/20\n45000/45000 [==============================] - 29s 639us/step - loss: 0.7588 - acc: 0.7321 - val_loss: 0.8780 - val_acc: 0.7056\nEpoch 10/20\n45000/45000 [==============================] - 28s 629us/step - loss: 0.7373 - acc: 0.7419 - val_loss: 0.8234 - val_acc: 0.7246\nEpoch 11/20\n45000/45000 [==============================] - 28s 625us/step - loss: 0.7073 - acc: 0.7484 - val_loss: 0.8454 - val_acc: 0.7068\nEpoch 12/20\n45000/45000 [==============================] - 28s 628us/step - loss: 0.6922 - acc: 0.7573 - val_loss: 0.8424 - val_acc: 0.7242\nEpoch 13/20\n45000/45000 [==============================] - 28s 628us/step - loss: 0.6757 - acc: 0.7630 - val_loss: 0.8677 - val_acc: 0.7180\nEpoch 14/20\n45000/45000 [==============================] - 28s 628us/step - loss: 0.6539 - acc: 0.7693 - val_loss: 0.8142 - val_acc: 0.7294\nEpoch 15/20\n45000/45000 [==============================] - 28s 628us/step - loss: 0.6358 - acc: 0.7761 - val_loss: 0.8401 - val_acc: 0.7248\nEpoch 16/20\n45000/45000 [==============================] - 28s 630us/step - loss: 0.6202 - acc: 0.7828 - val_loss: 0.8213 - val_acc: 0.7334\nEpoch 17/20\n45000/45000 [==============================] - 28s 626us/step - loss: 0.6101 - acc: 0.7861 - val_loss: 0.8555 - val_acc: 0.7190\nEpoch 18/20\n45000/45000 [==============================] - 28s 629us/step - loss: 0.5906 - acc: 0.7916 - val_loss: 0.8406 - val_acc: 0.7292\nEpoch 19/20\n45000/45000 [==============================] - 28s 627us/step - loss: 0.5904 - acc: 0.7922 - val_loss: 0.8333 - val_acc: 0.7364\nEpoch 20/20\n45000/45000 [==============================] - 29s 636us/step - loss: 0.5702 - acc: 0.7984 - val_loss: 0.8239 - val_acc: 0.7318\n",
          "name": "stdout"
        }
      ]
    },
    {
      "metadata": {
        "id": "3PU0rI9MddnW",
        "colab_type": "code",
        "colab": {
          "base_uri": "https://localhost:8080/",
          "height": 295
        },
        "outputId": "93de66c4-7ecf-46ee-defc-1834785b03ff",
        "executionInfo": {
          "status": "ok",
          "timestamp": 1565959567155,
          "user_tz": -720,
          "elapsed": 2129,
          "user": {
            "displayName": "John Siryj",
            "photoUrl": "",
            "userId": "12025836420032788481"
          }
        },
        "trusted": false
      },
      "cell_type": "code",
      "source": "plt.plot(mod_fit_new_arch.history['acc'])\nplt.plot(mod_fit_new_arch.history['val_acc'])\nplt.title('Model Accuracy')\nplt.ylabel('Accuracy')\nplt.xlabel('Epoch')\nplt.legend(['Train', 'Validation'], loc='upper left')\nplt.show()",
      "execution_count": 30,
      "outputs": [
        {
          "output_type": "display_data",
          "data": {
            "image/png": "[encoded data removed]",
            "text/plain": "<Figure size 432x288 with 1 Axes>"
          },
          "metadata": {
            "tags": []
          }
        }
      ]
    },
    {
      "metadata": {
        "id": "hPVK8cBzeWj_",
        "colab_type": "code",
        "colab": {
          "base_uri": "https://localhost:8080/",
          "height": 295
        },
        "outputId": "914ef56f-cbd4-4054-abd5-cfd025a611b6",
        "executionInfo": {
          "status": "ok",
          "timestamp": 1565959780049,
          "user_tz": -720,
          "elapsed": 2135,
          "user": {
            "displayName": "John Siryj",
            "photoUrl": "",
            "userId": "12025836420032788481"
          }
        },
        "trusted": false
      },
      "cell_type": "code",
      "source": "plt.plot(mod_fit_new_arch.history['loss'])\nplt.plot(mod_fit_new_arch.history['val_loss'])\nplt.title('Model Loss')\nplt.ylabel('Loss')\nplt.xlabel('Epoch')\nplt.legend(['Train', 'Validation'], loc='upper left')\nplt.show()",
      "execution_count": 31,
      "outputs": [
        {
          "output_type": "display_data",
          "data": {
            "image/png": "[encoded data removed]",
            "text/plain": "<Figure size 432x288 with 1 Axes>"
          },
          "metadata": {
            "tags": []
          }
        }
      ]
    },
    {
      "metadata": {
        "id": "-dI-8p5uewSJ",
        "colab_type": "text"
      },
      "cell_type": "markdown",
      "source": "As we can see simply adding another block of convolutional layers has had a significant impact on the validation accuracy and overfitting. After running this model for 20 epochs we have increased the accuracy by about 5% over the single block of convolutional layers. It appears that at around 10 epochs the validation accuracy plateaus. We will stop here, but we hypothesise that adding additional blocks of convolutional layers would increase the accuracy further."
    },
    {
      "metadata": {
        "id": "zoe5a-JxhMkB",
        "colab_type": "text"
      },
      "cell_type": "markdown",
      "source": "#  Selected Model's Performance\n\nAs we saw above the model accuracy on training data was about `79.8%`after 20 epochs and the model accuracy on validation data was about `73.2%` after 20 epochs. We would also like to know how the selected model performs on the test data we were given as well. We do this below."
    },
    {
      "metadata": {
        "id": "TmgVv2O4iP-k",
        "colab_type": "code",
        "colab": {
          "base_uri": "https://localhost:8080/",
          "height": 51
        },
        "outputId": "2da8f7fc-22b3-4cb1-dc52-6763e35ea998",
        "executionInfo": {
          "status": "ok",
          "timestamp": 1565961073178,
          "user_tz": -720,
          "elapsed": 3860,
          "user": {
            "displayName": "John Siryj",
            "photoUrl": "",
            "userId": "12025836420032788481"
          }
        },
        "trusted": false
      },
      "cell_type": "code",
      "source": "model_new_arch.evaluate(x_test, Y_test, batch_size=10)",
      "execution_count": 33,
      "outputs": [
        {
          "output_type": "stream",
          "text": "10000/10000 [==============================] - 2s 236us/step\n",
          "name": "stdout"
        },
        {
          "output_type": "execute_result",
          "data": {
            "text/plain": "[0.8461520169116556, 0.7276000004857779]"
          },
          "metadata": {
            "tags": []
          },
          "execution_count": 33
        }
      ]
    },
    {
      "metadata": {
        "id": "buYffV_Xjhwq",
        "colab_type": "text"
      },
      "cell_type": "markdown",
      "source": "The first number output by evaluate is the loss, followed by the accuracy. Thus we can see that our model is about `72.8%`accurate on the test data which it has never seen. This is quite good. We are interested in seeing which classes it had the biggest problems with by creating a confusion matrix below."
    },
    {
      "metadata": {
        "id": "W5ps0MPGkFU4",
        "colab_type": "code",
        "colab": {},
        "trusted": false
      },
      "cell_type": "code",
      "source": "predictions = model_new_arch.predict(x_test)\ny_pred = np.argmax(predictions,axis=1)",
      "execution_count": 0,
      "outputs": []
    },
    {
      "metadata": {
        "id": "Nsb_eL_vlH3f",
        "colab_type": "code",
        "colab": {},
        "trusted": false
      },
      "cell_type": "code",
      "source": "from sklearn.metrics import confusion_matrix, classification_report",
      "execution_count": 0,
      "outputs": []
    },
    {
      "metadata": {
        "id": "TK-NjYH4lKWA",
        "colab_type": "code",
        "colab": {
          "base_uri": "https://localhost:8080/",
          "height": 190
        },
        "outputId": "824e1740-13aa-4309-e253-72afad6b181e",
        "executionInfo": {
          "status": "ok",
          "timestamp": 1565962272275,
          "user_tz": -720,
          "elapsed": 2691,
          "user": {
            "displayName": "John Siryj",
            "photoUrl": "",
            "userId": "12025836420032788481"
          }
        },
        "trusted": false
      },
      "cell_type": "code",
      "source": "confusion_matrix(y_test,y_pred)",
      "execution_count": 42,
      "outputs": [
        {
          "output_type": "execute_result",
          "data": {
            "text/plain": "array([[733,  26,  65,  23,  27,   3,  11,  12,  73,  27],\n       [ 11, 847,   8,   6,   5,   4,  12,   5,  23,  79],\n       [ 53,   5, 569,  55, 129,  47,  95,  25,  13,   9],\n       [ 21,   5,  64, 511, 102, 150,  84,  30,  18,  15],\n       [ 19,   0,  34,  47, 753,  24,  49,  61,   6,   7],\n       [ 15,   2,  52, 167,  69, 598,  41,  47,   3,   6],\n       [  1,   4,  35,  33,  45,  18, 848,   6,   4,   6],\n       [ 17,   3,  19,  47,  73,  49,  15, 760,   4,  13],\n       [ 56,  30,  19,  19,   5,   6,   7,   7, 818,  33],\n       [ 29,  59,   4,  14,   8,   4,   7,  10,  26, 839]])"
          },
          "metadata": {
            "tags": []
          },
          "execution_count": 42
        }
      ]
    },
    {
      "metadata": {
        "id": "pvxZspJmozo4",
        "colab_type": "text"
      },
      "cell_type": "markdown",
      "source": "As we can see the model is far from perfect and seems to perform better on classes 1 and 6 then is does on class 3 for instance. For a better understanding of this we should look at the precision and recall for each class. We should also recall what each class is meant to be. From the `CIFAR-10` information page we know that the following labels are associated with the following objects."
    },
    {
      "metadata": {
        "id": "RBZ53p-jqJDE",
        "colab_type": "text"
      },
      "cell_type": "markdown",
      "source": "\n\n0. airplane\n1. automobile\n2. bird\n3. cat\n4. deer\n5. dog\n6. frog\n7. horse\n8. ship\n9. truck\n\n"
    },
    {
      "metadata": {
        "id": "hokCKLBUp2F4",
        "colab_type": "code",
        "colab": {},
        "trusted": false
      },
      "cell_type": "code",
      "source": "target_names = ['airplane','automobile','bird','cat','deer','dog','frog','horse','ship','truck']",
      "execution_count": 0,
      "outputs": []
    },
    {
      "metadata": {
        "id": "PNy9GZY7oBqz",
        "colab_type": "code",
        "colab": {
          "base_uri": "https://localhost:8080/",
          "height": 311
        },
        "outputId": "02cae9da-a7f3-4db8-d656-e7a6eeee3d5b",
        "executionInfo": {
          "status": "ok",
          "timestamp": 1565963262121,
          "user_tz": -720,
          "elapsed": 1355,
          "user": {
            "displayName": "John Siryj",
            "photoUrl": "",
            "userId": "12025836420032788481"
          }
        },
        "trusted": false
      },
      "cell_type": "code",
      "source": "print(classification_report(y_test,y_pred,target_names=target_names))",
      "execution_count": 45,
      "outputs": [
        {
          "output_type": "stream",
          "text": "              precision    recall  f1-score   support\n\n    airplane       0.77      0.73      0.75      1000\n  automobile       0.86      0.85      0.86      1000\n        bird       0.65      0.57      0.61      1000\n         cat       0.55      0.51      0.53      1000\n        deer       0.62      0.75      0.68      1000\n         dog       0.66      0.60      0.63      1000\n        frog       0.73      0.85      0.78      1000\n       horse       0.79      0.76      0.77      1000\n        ship       0.83      0.82      0.82      1000\n       truck       0.81      0.84      0.82      1000\n\n    accuracy                           0.73     10000\n   macro avg       0.73      0.73      0.73     10000\nweighted avg       0.73      0.73      0.73     10000\n\n",
          "name": "stdout"
        }
      ]
    },
    {
      "metadata": {
        "id": "GotFSWYFsG_h",
        "colab_type": "text"
      },
      "cell_type": "markdown",
      "source": "The precision is the percentage of images classified as the a particular class that are truly that class. The recall is the percentage of correctly labeled items out of all of the items truly of that class (correctly or incorrectly labeled). Of course it is best to have both of these metrics as high as possible. The F1 score that is reported is the harmonic mean of recall and percision.\n\nAs we said before our model seems to do quite well on images of automobiles, ships, and trucks. It seems to do reasonably well on images of airplanes frogs, and horses. It appears to perform poorly on images of cats, deer, birds and dogs. It is interesting that the animals are the hardest for the classifier to correctly label. This could be due to the difference in variation of photos of airplanes vs cats for instance that the model as seen."
    },
    {
      "metadata": {
        "id": "2B7G9gVrunUn",
        "colab_type": "code",
        "colab": {}
      },
      "cell_type": "markdown",
      "source": "In conclusion this model is good for basic classification, for better accuracy we suggest using existing models like ResNet or VGG as our models are unlikely to rival them for general purpose classification."
    }
  ],
  "metadata": {
    "kernelspec": {
      "name": "python36",
      "display_name": "Python 3.6",
      "language": "python"
    },
    "language_info": {
      "mimetype": "text/x-python",
      "nbconvert_exporter": "python",
      "name": "python",
      "pygments_lexer": "ipython3",
      "version": "3.6.6",
      "file_extension": ".py",
      "codemirror_mode": {
        "version": 3,
        "name": "ipython"
      }
    },
    "colab": {
      "name": "CIFAR10.ipynb",
      "version": "0.3.2",
      "provenance": [],
      "collapsed_sections": [],
      "toc_visible": true
    },
    "accelerator": "GPU"
  },
  "nbformat": 4,
  "nbformat_minor": 1
}